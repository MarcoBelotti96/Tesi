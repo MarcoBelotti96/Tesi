{
 "cells": [
  {
   "cell_type": "markdown",
   "metadata": {},
   "source": [
    "# Normalizzazione dati inquinamento #\n",
    "In questo notebook andrò a descrivere le attività realizzate per quanto riguarda la normalizzazione dei dati sugli inquinanti atmosferici relativamente alle variabili meteorologiche.\n",
    "\n",
    "## Introduzione a random forest ##\n",
    "Random forest è un algoritmo di machine learning d'insieme, adatto a risolvere sia problemi di classificazione che di regressione. Visto che nel nostro caso quello che vogliamo stimare è una quantità, nello specifico la concentrazione di un inquinante, noi useremo la variante regressiva. Concettualmente comunque il metodo è praticamente lo stesso per entrambi i problemi, fatto salvo per alcuni dettagli minori.  \n",
    "Random forest, applicando alcune tencniche, riesce a risolvere il problema dell'overfitting caratteristico degli alberi di decisione. Si parla di overfitting quando, dopo aver creato un modello secondo le specifiche dell'algoritmo utilizzato, se ne ottiene uno che ha buone performance sui dati usati per costruirlo ma poi risulta poco preciso quando viene messo alla prova su dati mai visti. Chiaramente questa è una situazione che si vuole evitare, poichè l'obbiettivo è quello di arrivare ad ottenere un modello le cui previsioni siano sufficentemente precise indipendentemente dai dati che gli vengono passati in input.  \n",
    "Random forest si basa sull'utilizzo di molti alberi di decisione per fare le previsioni, così da ridurre la varianza del modello.\n",
    "\n",
    "### Definizione metodo ###\n",
    "Il nostro obbiettivo è quello di riuscire a stimare un valore, nel nostro caso la concentrazione di un inquinante, partendo da un set di valori per un numero di variabili dette predittrici o features.  \n",
    "È quindi chiaro che per poter fare questo tipo di lavoro sia necessario che i valori della variabile di output (la variabile che vogliamo predirre) debbano essere in qualche modo in relazione con quelli delle variabili di input (features).\n",
    "Se chiamiamo $Y$ la variabile che rappresenta la concentrazione dell'inquinante di interesse ed $X$ la variabile che rappresenta i valori delle variabili di input, possiamo pensare di definire questa relazione in questo modo:\n",
    "<center>$Y = f(X)$</center>\n",
    "Chiaramente per noi la vera forma di $f$ è sconosciuta, poichè non possiamo conoscere tutti i fattori e le relazioni che influenzano i valori di $Y$. Possiamo però, attraverso la costruzione di un modello, creare una funzione $\\hat{f}$ che sia una stima di tale funzione. La nostra definizione può quindi essere cambiata in:\n",
    "<center>$\\hat{Y} = \\hat{f}(X)$</center>\n",
    "dove $\\hat{Y}$ è la variabile che rappresenta le predizioni fatte dal nostro modello (e che chiaramente vorremmo che sia il più vicino possibile ai reali valori di $Y$).\n",
    "\n",
    "Come già accennato il modello costruito da random forest si basa sull'uso di molti alberi di decisione. Per diminuire la varianza del modello ottenuto, senza però aumentare la distorsione, viene applicata una tecnica detta bagging. Questo significa che mentre le previsioni di un singolo albero sono molto sensibili al \"rumore\" presente nei dati utilizzati per la sua costruzione, la media di molti alberi invece non lo è, a patto che questi alberi siano decorrelati. Il bagging serve proprio per riuscire ad ottenere questa decorrelazione tra i vari alberi che comporranno la foresta del nostro modello.\n",
    "Fare bagging significa che ogni albero verrà creato partendo da un campione estratto casualmente e con ripetizione dei dati su cui vogliamo costruire il modello. Questo significa quindi che ogni albero verrà creato sulla base di un insieme di dati diverso da quello usato per creare gli altri, ottenendo quindi la decorrelazione.\n",
    "\n",
    "## Esempio di applicazione ##\n",
    "Di seguito verrà illustrato un esempio dell'applicazione di questo metodo per provare ad ottenere la normalizzazione dei dati di un inquinante rispettivamente alle condizioni metereologiche.\n",
    "\n",
    "Nel nostro esempio la variabile $Y$ saranno le concentrazioni degli NOx, e le variabili predittrici ($X$) saranno data, precipitazioni, temperatura, direzione e velocità del vento, umidità, giorno della settimana e giorno dell'anno. \n",
    "\n",
    "Chiaramente la prima cosa da fare è scegliere una stazione su cui vogliamo basare la nostra analisi d'esempio.\n",
    "La stazione scelta è quella di Milano Via Zavattari, poichè possiede sensori sia per i principali inquinanti che per le variabili metereologiche che ci interessano.\n",
    "\n",
    "Innanzitutto eseguiamo l'import dei package che saranno impiegati."
   ]
  },
  {
   "cell_type": "code",
   "execution_count": 1,
   "metadata": {},
   "outputs": [],
   "source": [
    "%matplotlib inline\n",
    "import matplotlib.pyplot as plt\n",
    "import pandas as pd\n",
    "import info_stazioni as info\n",
    "import data_preparation as data_prep\n",
    "from sklearn.model_selection import train_test_split\n",
    "from sklearn.ensemble import RandomForestRegressor\n",
    "from sklearn import metrics\n",
    "import numpy as np\n",
    "from sklearn.inspection import partial_dependence\n",
    "from sklearn.inspection import plot_partial_dependence"
   ]
  },
  {
   "cell_type": "markdown",
   "metadata": {},
   "source": [
    "Il primo passaggio da eseguire è quello di prepararsi una tabella, a risoluzione giornaliera, in cui per ogni data saranno contenuti i valori delle variabili del nostro modello.\n",
    "Questo è possibile tramite l'uso della funzione prepare_data, contenuta nel file data_preparation.py .\n",
    "La funzione accetta come parametri:\n",
    "- Id del sensore per l'inquinante\n",
    "- Id del sensore per la temperatura\n",
    "- Id del sensore per le precipitazioni\n",
    "- Id del sensore per la direzione del vento\n",
    "- Id del sensore per la velocità del vento\n",
    "- Id del sensore per l'umidità\n",
    "- Unità temporale da usare per aggregare i dati (\"d\", \"h\", ..)\n",
    "\n",
    "Dati questi parametri la funzione provvederà a creare la tabella recuperando i dati dei vari sensori dai file CSV precedentemente generati, filtrando le date per cui non si hanno valori validi per l'inquinante e riempiendo gli altri dati mancanti con la media dei valori di tale dato.\n",
    "\n",
    "**I dati per le variabili metereologiche del '06-'08 purtroppo non risultano disponibili, in quanto l'archivio messo a disposizione da ARPA risulta danneggiato e non leggibile. Ho provato a contattare ARPA per chiedere se si potesse risolvere il problema ma attualmente non ho ricevuto risposta.  \n",
    "Attualmente sto ancora valutando se considerare lo stesso buoni i dati per tale periodo oppure se scartarlo, che forse è più ragionevole.**\n",
    "\n",
    "La funzione prepare_data ci restituisce già una tabella indicizzata per data. Noi però dobbiamo comunque aggiungere una colonna che la rappresenti per due motivi: il primo è che non è possibile costruire modelli basandosi su variabili di tipo 'datetime' (e quindi useremo il campo epoch), il secondo invece è perchè, per come è stato implementato l'algoritmo, non si può usare la colonna dell'indice come variabile da considerare nella creazione del modello."
   ]
  },
  {
   "cell_type": "code",
   "execution_count": 2,
   "metadata": {
    "scrolled": false
   },
   "outputs": [
    {
     "data": {
      "text/html": [
       "<div>\n",
       "<style scoped>\n",
       "    .dataframe tbody tr th:only-of-type {\n",
       "        vertical-align: middle;\n",
       "    }\n",
       "\n",
       "    .dataframe tbody tr th {\n",
       "        vertical-align: top;\n",
       "    }\n",
       "\n",
       "    .dataframe thead th {\n",
       "        text-align: right;\n",
       "    }\n",
       "</style>\n",
       "<table border=\"1\" class=\"dataframe\">\n",
       "  <thead>\n",
       "    <tr style=\"text-align: right;\">\n",
       "      <th></th>\n",
       "      <th>inquinante</th>\n",
       "      <th>temperatura</th>\n",
       "      <th>precipitazioni</th>\n",
       "      <th>direzione_vento</th>\n",
       "      <th>velocita_vento</th>\n",
       "      <th>umidita</th>\n",
       "      <th>day_of_year</th>\n",
       "      <th>day_of_week</th>\n",
       "      <th>epoch</th>\n",
       "    </tr>\n",
       "    <tr>\n",
       "      <th>Data</th>\n",
       "      <th></th>\n",
       "      <th></th>\n",
       "      <th></th>\n",
       "      <th></th>\n",
       "      <th></th>\n",
       "      <th></th>\n",
       "      <th></th>\n",
       "      <th></th>\n",
       "      <th></th>\n",
       "    </tr>\n",
       "  </thead>\n",
       "  <tbody>\n",
       "    <tr>\n",
       "      <th>1980-09-18</th>\n",
       "      <td>488.133333</td>\n",
       "      <td>13.799717</td>\n",
       "      <td>0.085468</td>\n",
       "      <td>216.788013</td>\n",
       "      <td>1.243275</td>\n",
       "      <td>66.734669</td>\n",
       "      <td>262</td>\n",
       "      <td>3</td>\n",
       "      <td>338083200000000000</td>\n",
       "    </tr>\n",
       "    <tr>\n",
       "      <th>1980-09-19</th>\n",
       "      <td>761.312500</td>\n",
       "      <td>13.799717</td>\n",
       "      <td>0.085468</td>\n",
       "      <td>216.788013</td>\n",
       "      <td>1.243275</td>\n",
       "      <td>66.734669</td>\n",
       "      <td>263</td>\n",
       "      <td>4</td>\n",
       "      <td>338169600000000000</td>\n",
       "    </tr>\n",
       "    <tr>\n",
       "      <th>1980-09-20</th>\n",
       "      <td>414.704167</td>\n",
       "      <td>13.799717</td>\n",
       "      <td>0.085468</td>\n",
       "      <td>216.788013</td>\n",
       "      <td>1.243275</td>\n",
       "      <td>66.734669</td>\n",
       "      <td>264</td>\n",
       "      <td>5</td>\n",
       "      <td>338256000000000000</td>\n",
       "    </tr>\n",
       "    <tr>\n",
       "      <th>1980-09-21</th>\n",
       "      <td>474.891667</td>\n",
       "      <td>13.799717</td>\n",
       "      <td>0.085468</td>\n",
       "      <td>216.788013</td>\n",
       "      <td>1.243275</td>\n",
       "      <td>66.734669</td>\n",
       "      <td>265</td>\n",
       "      <td>6</td>\n",
       "      <td>338342400000000000</td>\n",
       "    </tr>\n",
       "    <tr>\n",
       "      <th>1980-09-22</th>\n",
       "      <td>483.570833</td>\n",
       "      <td>13.799717</td>\n",
       "      <td>0.085468</td>\n",
       "      <td>216.788013</td>\n",
       "      <td>1.243275</td>\n",
       "      <td>66.734669</td>\n",
       "      <td>266</td>\n",
       "      <td>0</td>\n",
       "      <td>338428800000000000</td>\n",
       "    </tr>\n",
       "    <tr>\n",
       "      <th>...</th>\n",
       "      <td>...</td>\n",
       "      <td>...</td>\n",
       "      <td>...</td>\n",
       "      <td>...</td>\n",
       "      <td>...</td>\n",
       "      <td>...</td>\n",
       "      <td>...</td>\n",
       "      <td>...</td>\n",
       "      <td>...</td>\n",
       "    </tr>\n",
       "    <tr>\n",
       "      <th>2016-12-27</th>\n",
       "      <td>125.750000</td>\n",
       "      <td>12.132639</td>\n",
       "      <td>0.000000</td>\n",
       "      <td>157.540972</td>\n",
       "      <td>1.619444</td>\n",
       "      <td>67.880303</td>\n",
       "      <td>362</td>\n",
       "      <td>1</td>\n",
       "      <td>1482796800000000000</td>\n",
       "    </tr>\n",
       "    <tr>\n",
       "      <th>2016-12-28</th>\n",
       "      <td>148.016667</td>\n",
       "      <td>7.166667</td>\n",
       "      <td>0.000000</td>\n",
       "      <td>229.563889</td>\n",
       "      <td>0.832639</td>\n",
       "      <td>54.708333</td>\n",
       "      <td>363</td>\n",
       "      <td>2</td>\n",
       "      <td>1482883200000000000</td>\n",
       "    </tr>\n",
       "    <tr>\n",
       "      <th>2016-12-29</th>\n",
       "      <td>87.808333</td>\n",
       "      <td>5.859028</td>\n",
       "      <td>0.000000</td>\n",
       "      <td>130.990278</td>\n",
       "      <td>1.540278</td>\n",
       "      <td>68.527778</td>\n",
       "      <td>364</td>\n",
       "      <td>3</td>\n",
       "      <td>1482969600000000000</td>\n",
       "    </tr>\n",
       "    <tr>\n",
       "      <th>2016-12-30</th>\n",
       "      <td>149.370833</td>\n",
       "      <td>2.693750</td>\n",
       "      <td>0.000000</td>\n",
       "      <td>289.088889</td>\n",
       "      <td>0.743056</td>\n",
       "      <td>89.108333</td>\n",
       "      <td>365</td>\n",
       "      <td>4</td>\n",
       "      <td>1483056000000000000</td>\n",
       "    </tr>\n",
       "    <tr>\n",
       "      <th>2016-12-31</th>\n",
       "      <td>141.729167</td>\n",
       "      <td>1.346528</td>\n",
       "      <td>0.000000</td>\n",
       "      <td>305.030556</td>\n",
       "      <td>0.662500</td>\n",
       "      <td>89.906944</td>\n",
       "      <td>366</td>\n",
       "      <td>5</td>\n",
       "      <td>1483142400000000000</td>\n",
       "    </tr>\n",
       "  </tbody>\n",
       "</table>\n",
       "<p>12581 rows × 9 columns</p>\n",
       "</div>"
      ],
      "text/plain": [
       "            inquinante  temperatura  precipitazioni  direzione_vento  \\\n",
       "Data                                                                   \n",
       "1980-09-18  488.133333    13.799717        0.085468       216.788013   \n",
       "1980-09-19  761.312500    13.799717        0.085468       216.788013   \n",
       "1980-09-20  414.704167    13.799717        0.085468       216.788013   \n",
       "1980-09-21  474.891667    13.799717        0.085468       216.788013   \n",
       "1980-09-22  483.570833    13.799717        0.085468       216.788013   \n",
       "...                ...          ...             ...              ...   \n",
       "2016-12-27  125.750000    12.132639        0.000000       157.540972   \n",
       "2016-12-28  148.016667     7.166667        0.000000       229.563889   \n",
       "2016-12-29   87.808333     5.859028        0.000000       130.990278   \n",
       "2016-12-30  149.370833     2.693750        0.000000       289.088889   \n",
       "2016-12-31  141.729167     1.346528        0.000000       305.030556   \n",
       "\n",
       "            velocita_vento    umidita  day_of_year  day_of_week  \\\n",
       "Data                                                              \n",
       "1980-09-18        1.243275  66.734669          262            3   \n",
       "1980-09-19        1.243275  66.734669          263            4   \n",
       "1980-09-20        1.243275  66.734669          264            5   \n",
       "1980-09-21        1.243275  66.734669          265            6   \n",
       "1980-09-22        1.243275  66.734669          266            0   \n",
       "...                    ...        ...          ...          ...   \n",
       "2016-12-27        1.619444  67.880303          362            1   \n",
       "2016-12-28        0.832639  54.708333          363            2   \n",
       "2016-12-29        1.540278  68.527778          364            3   \n",
       "2016-12-30        0.743056  89.108333          365            4   \n",
       "2016-12-31        0.662500  89.906944          366            5   \n",
       "\n",
       "                          epoch  \n",
       "Data                             \n",
       "1980-09-18   338083200000000000  \n",
       "1980-09-19   338169600000000000  \n",
       "1980-09-20   338256000000000000  \n",
       "1980-09-21   338342400000000000  \n",
       "1980-09-22   338428800000000000  \n",
       "...                         ...  \n",
       "2016-12-27  1482796800000000000  \n",
       "2016-12-28  1482883200000000000  \n",
       "2016-12-29  1482969600000000000  \n",
       "2016-12-30  1483056000000000000  \n",
       "2016-12-31  1483142400000000000  \n",
       "\n",
       "[12581 rows x 9 columns]"
      ]
     },
     "execution_count": 2,
     "metadata": {},
     "output_type": "execute_result"
    }
   ],
   "source": [
    "data = data_prep.prepare_data(6372, 5920, 9341, 19006, 19005, 6185, \"d\")\n",
    "#ricavo il campo epoch partendo dalla data contenuta nell'indice\n",
    "data[\"epoch\"] = data.index.astype(\"int64\")\n",
    "data"
   ]
  },
  {
   "cell_type": "markdown",
   "metadata": {},
   "source": [
    "Visto che le rilevazioni per le variabili metereologiche iniziano dopo gli anni 2000 filtriamo la tabella in modo che contenga solo osservazioni successive a tale data."
   ]
  },
  {
   "cell_type": "code",
   "execution_count": 3,
   "metadata": {},
   "outputs": [
    {
     "data": {
      "text/html": [
       "<div>\n",
       "<style scoped>\n",
       "    .dataframe tbody tr th:only-of-type {\n",
       "        vertical-align: middle;\n",
       "    }\n",
       "\n",
       "    .dataframe tbody tr th {\n",
       "        vertical-align: top;\n",
       "    }\n",
       "\n",
       "    .dataframe thead th {\n",
       "        text-align: right;\n",
       "    }\n",
       "</style>\n",
       "<table border=\"1\" class=\"dataframe\">\n",
       "  <thead>\n",
       "    <tr style=\"text-align: right;\">\n",
       "      <th></th>\n",
       "      <th>inquinante</th>\n",
       "      <th>temperatura</th>\n",
       "      <th>precipitazioni</th>\n",
       "      <th>direzione_vento</th>\n",
       "      <th>velocita_vento</th>\n",
       "      <th>umidita</th>\n",
       "      <th>day_of_year</th>\n",
       "      <th>day_of_week</th>\n",
       "      <th>epoch</th>\n",
       "    </tr>\n",
       "    <tr>\n",
       "      <th>Data</th>\n",
       "      <th></th>\n",
       "      <th></th>\n",
       "      <th></th>\n",
       "      <th></th>\n",
       "      <th></th>\n",
       "      <th></th>\n",
       "      <th></th>\n",
       "      <th></th>\n",
       "      <th></th>\n",
       "    </tr>\n",
       "  </thead>\n",
       "  <tbody>\n",
       "    <tr>\n",
       "      <th>2000-01-01</th>\n",
       "      <td>447.433333</td>\n",
       "      <td>0.354167</td>\n",
       "      <td>0.085468</td>\n",
       "      <td>216.788013</td>\n",
       "      <td>1.243275</td>\n",
       "      <td>66.734669</td>\n",
       "      <td>1</td>\n",
       "      <td>5</td>\n",
       "      <td>946684800000000000</td>\n",
       "    </tr>\n",
       "    <tr>\n",
       "      <th>2000-01-02</th>\n",
       "      <td>346.137500</td>\n",
       "      <td>0.366667</td>\n",
       "      <td>0.085468</td>\n",
       "      <td>216.788013</td>\n",
       "      <td>1.243275</td>\n",
       "      <td>66.734669</td>\n",
       "      <td>2</td>\n",
       "      <td>6</td>\n",
       "      <td>946771200000000000</td>\n",
       "    </tr>\n",
       "    <tr>\n",
       "      <th>2000-01-03</th>\n",
       "      <td>549.454167</td>\n",
       "      <td>0.370833</td>\n",
       "      <td>0.085468</td>\n",
       "      <td>216.788013</td>\n",
       "      <td>1.243275</td>\n",
       "      <td>66.734669</td>\n",
       "      <td>3</td>\n",
       "      <td>0</td>\n",
       "      <td>946857600000000000</td>\n",
       "    </tr>\n",
       "    <tr>\n",
       "      <th>2000-01-04</th>\n",
       "      <td>673.245833</td>\n",
       "      <td>1.791667</td>\n",
       "      <td>0.085468</td>\n",
       "      <td>216.788013</td>\n",
       "      <td>1.243275</td>\n",
       "      <td>66.734669</td>\n",
       "      <td>4</td>\n",
       "      <td>1</td>\n",
       "      <td>946944000000000000</td>\n",
       "    </tr>\n",
       "    <tr>\n",
       "      <th>2000-01-05</th>\n",
       "      <td>819.020833</td>\n",
       "      <td>3.520833</td>\n",
       "      <td>0.085468</td>\n",
       "      <td>216.788013</td>\n",
       "      <td>1.243275</td>\n",
       "      <td>66.734669</td>\n",
       "      <td>5</td>\n",
       "      <td>2</td>\n",
       "      <td>947030400000000000</td>\n",
       "    </tr>\n",
       "    <tr>\n",
       "      <th>...</th>\n",
       "      <td>...</td>\n",
       "      <td>...</td>\n",
       "      <td>...</td>\n",
       "      <td>...</td>\n",
       "      <td>...</td>\n",
       "      <td>...</td>\n",
       "      <td>...</td>\n",
       "      <td>...</td>\n",
       "      <td>...</td>\n",
       "    </tr>\n",
       "    <tr>\n",
       "      <th>2016-12-27</th>\n",
       "      <td>125.750000</td>\n",
       "      <td>12.132639</td>\n",
       "      <td>0.000000</td>\n",
       "      <td>157.540972</td>\n",
       "      <td>1.619444</td>\n",
       "      <td>67.880303</td>\n",
       "      <td>362</td>\n",
       "      <td>1</td>\n",
       "      <td>1482796800000000000</td>\n",
       "    </tr>\n",
       "    <tr>\n",
       "      <th>2016-12-28</th>\n",
       "      <td>148.016667</td>\n",
       "      <td>7.166667</td>\n",
       "      <td>0.000000</td>\n",
       "      <td>229.563889</td>\n",
       "      <td>0.832639</td>\n",
       "      <td>54.708333</td>\n",
       "      <td>363</td>\n",
       "      <td>2</td>\n",
       "      <td>1482883200000000000</td>\n",
       "    </tr>\n",
       "    <tr>\n",
       "      <th>2016-12-29</th>\n",
       "      <td>87.808333</td>\n",
       "      <td>5.859028</td>\n",
       "      <td>0.000000</td>\n",
       "      <td>130.990278</td>\n",
       "      <td>1.540278</td>\n",
       "      <td>68.527778</td>\n",
       "      <td>364</td>\n",
       "      <td>3</td>\n",
       "      <td>1482969600000000000</td>\n",
       "    </tr>\n",
       "    <tr>\n",
       "      <th>2016-12-30</th>\n",
       "      <td>149.370833</td>\n",
       "      <td>2.693750</td>\n",
       "      <td>0.000000</td>\n",
       "      <td>289.088889</td>\n",
       "      <td>0.743056</td>\n",
       "      <td>89.108333</td>\n",
       "      <td>365</td>\n",
       "      <td>4</td>\n",
       "      <td>1483056000000000000</td>\n",
       "    </tr>\n",
       "    <tr>\n",
       "      <th>2016-12-31</th>\n",
       "      <td>141.729167</td>\n",
       "      <td>1.346528</td>\n",
       "      <td>0.000000</td>\n",
       "      <td>305.030556</td>\n",
       "      <td>0.662500</td>\n",
       "      <td>89.906944</td>\n",
       "      <td>366</td>\n",
       "      <td>5</td>\n",
       "      <td>1483142400000000000</td>\n",
       "    </tr>\n",
       "  </tbody>\n",
       "</table>\n",
       "<p>6072 rows × 9 columns</p>\n",
       "</div>"
      ],
      "text/plain": [
       "            inquinante  temperatura  precipitazioni  direzione_vento  \\\n",
       "Data                                                                   \n",
       "2000-01-01  447.433333     0.354167        0.085468       216.788013   \n",
       "2000-01-02  346.137500     0.366667        0.085468       216.788013   \n",
       "2000-01-03  549.454167     0.370833        0.085468       216.788013   \n",
       "2000-01-04  673.245833     1.791667        0.085468       216.788013   \n",
       "2000-01-05  819.020833     3.520833        0.085468       216.788013   \n",
       "...                ...          ...             ...              ...   \n",
       "2016-12-27  125.750000    12.132639        0.000000       157.540972   \n",
       "2016-12-28  148.016667     7.166667        0.000000       229.563889   \n",
       "2016-12-29   87.808333     5.859028        0.000000       130.990278   \n",
       "2016-12-30  149.370833     2.693750        0.000000       289.088889   \n",
       "2016-12-31  141.729167     1.346528        0.000000       305.030556   \n",
       "\n",
       "            velocita_vento    umidita  day_of_year  day_of_week  \\\n",
       "Data                                                              \n",
       "2000-01-01        1.243275  66.734669            1            5   \n",
       "2000-01-02        1.243275  66.734669            2            6   \n",
       "2000-01-03        1.243275  66.734669            3            0   \n",
       "2000-01-04        1.243275  66.734669            4            1   \n",
       "2000-01-05        1.243275  66.734669            5            2   \n",
       "...                    ...        ...          ...          ...   \n",
       "2016-12-27        1.619444  67.880303          362            1   \n",
       "2016-12-28        0.832639  54.708333          363            2   \n",
       "2016-12-29        1.540278  68.527778          364            3   \n",
       "2016-12-30        0.743056  89.108333          365            4   \n",
       "2016-12-31        0.662500  89.906944          366            5   \n",
       "\n",
       "                          epoch  \n",
       "Data                             \n",
       "2000-01-01   946684800000000000  \n",
       "2000-01-02   946771200000000000  \n",
       "2000-01-03   946857600000000000  \n",
       "2000-01-04   946944000000000000  \n",
       "2000-01-05   947030400000000000  \n",
       "...                         ...  \n",
       "2016-12-27  1482796800000000000  \n",
       "2016-12-28  1482883200000000000  \n",
       "2016-12-29  1482969600000000000  \n",
       "2016-12-30  1483056000000000000  \n",
       "2016-12-31  1483142400000000000  \n",
       "\n",
       "[6072 rows x 9 columns]"
      ]
     },
     "execution_count": 3,
     "metadata": {},
     "output_type": "execute_result"
    }
   ],
   "source": [
    "data = data[data.index >= '2000-01-01']\n",
    "data"
   ]
  },
  {
   "cell_type": "markdown",
   "metadata": {},
   "source": [
    "Prima di iniziare dichiariamo una serie di funzioni che saranno utili nella valutazione del modello.\n",
    "- rf_feat_importance serve per creare la tabella con l'importanza delle variabili predittrici \n",
    "- evaluate_training ci dà una serie di metriche per misurare le performance del nostro modello durante la fase di costruzione\n",
    "- evaluate_testing ci dà una serie di metriche per misurare le performance del nostro modello sul test set (quindi su dati nuovi che non avevo mai visto prima)\n",
    "\n",
    "I loro risultati saranno approfonditi successivamente."
   ]
  },
  {
   "cell_type": "code",
   "execution_count": 4,
   "metadata": {},
   "outputs": [],
   "source": [
    "def rf_feat_importance(m, df):\n",
    "    return pd.DataFrame({'cols':df.columns, 'imp':m.feature_importances_}\n",
    "                       ).sort_values('imp', ascending=False)\n",
    "\n",
    "def evaluate_training(model, x_train, y_train):\n",
    "    y_pred_train = model.predict(x_train)\n",
    "    mse = metrics.mean_squared_error(y_train, y_pred_train)\n",
    "    print(\"Training:\")\n",
    "    print(\"MSE:\", mse)\n",
    "    print(\"RMSE:\", np.sqrt(mse))\n",
    "    print(\"OOB Score (R^2):\", model.oob_score_)\n",
    "    \n",
    "def evaluate_testing(model, x_test, y_test):\n",
    "    y_pred = model.predict(x_test)\n",
    "    mse = metrics.mean_squared_error(y_test, y_pred)\n",
    "    print(\"Testing:\")\n",
    "    print(\"MSE:\", mse)\n",
    "    print(\"RMSE:\", np.sqrt(mse)) \n",
    "    print(\"R^2 for testing:\", model.score(x_test, y_test))"
   ]
  },
  {
   "cell_type": "markdown",
   "metadata": {},
   "source": [
    "## Creazione del modello ##\n",
    "Ora che abbiamo a disposizione i nostri dati possiamo passare a creare il modello che poi andremo ad usare per ottenere i valori dell'inquinante normalizzati.\n",
    "\n",
    "Come prima operazione è necessario estratte da questa tabella i valori della variabile da predirre (la nostra $X$) e i valori delle variabili predittrici ($Y$).\n",
    "Queste due variabili vengono poi ulteriormente divise attraverso l'uso della funzione train_test_split. Questa funzione, contenuta nel package scikit-learn, dividerà x e y in due gruppi ciascuno, che chiameremo training set e test set, assegnando al training set l'80% delle osservazioni totali (come specificato dal parametro train_size).\n",
    "Questa operazione è fatta in modo da avere una parte di dati che sarà usata per la costruzione del modello (il training set) e una che sarà usata per verificare le performance del modello (il test set)."
   ]
  },
  {
   "cell_type": "code",
   "execution_count": 5,
   "metadata": {},
   "outputs": [],
   "source": [
    "y = data.inquinante\n",
    "x = data.drop(\"inquinante\", 1)\n",
    "x_train, x_test, y_train, y_test = train_test_split(x, y, train_size = .8, random_state = 123)"
   ]
  },
  {
   "cell_type": "markdown",
   "metadata": {},
   "source": [
    "Ora che abbiamo diviso i nostri dati siamo finalmente pronti a creare il modello. L'algoritmo di random forest ha una serie di iperparametri settabili; inizialmente l'unico che andiamo a fissare è il numero di alberi da creare nella foresta, che per ora settiamo a 100. Il parametro oob_score serve per indicare di calcolare lo score del modello sui dati out of bag, mentre random_state serve per specificare il seed da usare per le operazioni casuali e, se settato, rendere quindi l'esperimento riproducibile.\n",
    "\n",
    "**Cosa sono i dati out of bag?**  \n",
    "Come descritto in precedenza ogni albero della foresta viene creato attrraverso l'applicazione del bagging, ovvero estrando un subset casuale dai dati di partenza. In questo subset non è assolutamente detto che siano contenute tutte le osservazioni presenti nei dati originali (anzi, è quello che vorremmo evitare per decorrelare i vari alberi) di cui in media non viengono usate il 30% delle osservazioni.  \n",
    "Ogni albero quindi avrà una parte di dati che non saranno stati usati nella sua creazione e che possono perciò essere utilizzati per testare le sue performance: questi dati vengono detti Out Of Bag. \n",
    "Più avanti descriverò più approfonditamente in che modo si fa questa valutazione.\n",
    "\n",
    "Andiamo quindi a creare il nostro modello passandogli i dati contenuti nel training set. Una volta create useremo le due funzioni dichiarate in precedenza per valutare il modello durante la fase di training e quella di testing."
   ]
  },
  {
   "cell_type": "code",
   "execution_count": 6,
   "metadata": {},
   "outputs": [
    {
     "name": "stdout",
     "output_type": "stream",
     "text": [
      "Training:\n",
      "MSE: 664.2315578677553\n",
      "RMSE: 25.77269015581717\n",
      "OOB Score (R^2): 0.6984649491734505\n",
      "Testing:\n",
      "MSE: 5076.298448746311\n",
      "RMSE: 71.24814698465013\n",
      "R^2 for testing: 0.6999967947469763\n"
     ]
    }
   ],
   "source": [
    "#max_depth, max_features\n",
    "model = RandomForestRegressor(n_estimators=100, oob_score=True, random_state=123)\n",
    "model.fit(x_train, y_train)\n",
    "\n",
    "evaluate_training(model, x_train, y_train)\n",
    "evaluate_testing(model, x_test, y_test)"
   ]
  },
  {
   "cell_type": "markdown",
   "metadata": {},
   "source": [
    "Le metriche usate per la valutazione del modello, sia nella fase di training (costruzione) che in quella di testing (valutazione delle sue performance) sono le seguenti:\n",
    "1. **MSE: Mean Squared Error**  \n",
    "    Chiamiamo $Y_i$ il valore della variabile $Y$ per l'i-esima osservazione e $\\hat{Y_i}$ il valore della predizione fatta dal nostro modello per l'i-esima osservazione. Allora, se $n$ è il numero totale delle osservazioni presenti nei nostri dati      \n",
    "    <center>$MSE = \\frac{1}{n}\\sum_{i=1}^{n} (Y_i - \\hat{Y_i})^2$</center>\n",
    "    \n",
    "    Chiaramente più il nostro modello sarà preciso e più questo valore si avvicinerà allo 0.\n",
    "2. **RMSE: Root Mean Squared Error** \n",
    "    <center>$RMSE = \\sqrt{MSE}$</center>\n",
    "    \n",
    "    Non è altro che la radice quadrate del MSE. Questo indice ha il vantaggio di essere espresso con la stessa unità di misura della variabile da predirre\n",
    "3. **OOB Score / $R^2$** \n",
    "    Nel contesto dei metodi statistici il cui obbiettivo è fare delle previsioni, il coefficiente $R^2$ ci indica quanto bene il nostro modello rappresenta i dati osservati, basandosi sulla proporzione di varianza spiegata dal modello.  \n",
    "    Il coefficiente viene così calcolato:  \n",
    "    <center>$R^2 = \\frac{\\sum_{i=1}^{n} (Y_i - \\hat{Y_i})^2}{\\sum_{i=1}^{n} (Y_i - \\overline{Y_i})^2}$</center>  \n",
    "    \n",
    "    Dove $\\overline{Y_i}$ è la media dei valori di Y.\n",
    "    Per quanto riguarda l'OOB Score il procedimento ottenuto per calcolarlo è lo stesso, ma al posto che usare l'intera foresta per fare una previsione, per ogni osservazione vengono fatte fare le previsioni solo a quegli alberi per cui tale osservazione risulta OOB. Così facendo si può quindi ottenere una stima di quello che sarà il test error del nostro modello. \n",
    "    L'indice normalmente assume valori tra 0 e 1.\n",
    "    \n",
    "Il valore del coefficiente $R^2$ per il modello appena costruito è di 0.7, che è un valore accettabile. Chiaramente poi si potrà lavorare per capire se si può migliorare ulteriormente."
   ]
  },
  {
   "cell_type": "markdown",
   "metadata": {},
   "source": [
    "## Importanza delle variabili ##\n",
    "Uno dei vantaggi dati dall'applicazione di random forest è quello di poter analizzare l'importanza delle variabili usate per le nostre predizioni, in modo da capire quali siano le più influenti.\n",
    "Le variabili più importanti sono chiaramente quelle che influiscono maggiormente sulla variabile da predirre, ovvero quelle che al cambiare del loro valore fanno cambiare maggiormente anche il risultato della previsione."
   ]
  },
  {
   "cell_type": "code",
   "execution_count": 7,
   "metadata": {},
   "outputs": [
    {
     "data": {
      "text/html": [
       "<div>\n",
       "<style scoped>\n",
       "    .dataframe tbody tr th:only-of-type {\n",
       "        vertical-align: middle;\n",
       "    }\n",
       "\n",
       "    .dataframe tbody tr th {\n",
       "        vertical-align: top;\n",
       "    }\n",
       "\n",
       "    .dataframe thead th {\n",
       "        text-align: right;\n",
       "    }\n",
       "</style>\n",
       "<table border=\"1\" class=\"dataframe\">\n",
       "  <thead>\n",
       "    <tr style=\"text-align: right;\">\n",
       "      <th></th>\n",
       "      <th>cols</th>\n",
       "      <th>imp</th>\n",
       "    </tr>\n",
       "  </thead>\n",
       "  <tbody>\n",
       "    <tr>\n",
       "      <th>5</th>\n",
       "      <td>day_of_year</td>\n",
       "      <td>0.341430</td>\n",
       "    </tr>\n",
       "    <tr>\n",
       "      <th>0</th>\n",
       "      <td>temperatura</td>\n",
       "      <td>0.265294</td>\n",
       "    </tr>\n",
       "    <tr>\n",
       "      <th>7</th>\n",
       "      <td>epoch</td>\n",
       "      <td>0.237087</td>\n",
       "    </tr>\n",
       "    <tr>\n",
       "      <th>6</th>\n",
       "      <td>day_of_week</td>\n",
       "      <td>0.063919</td>\n",
       "    </tr>\n",
       "    <tr>\n",
       "      <th>4</th>\n",
       "      <td>umidita</td>\n",
       "      <td>0.050034</td>\n",
       "    </tr>\n",
       "    <tr>\n",
       "      <th>3</th>\n",
       "      <td>velocita_vento</td>\n",
       "      <td>0.020377</td>\n",
       "    </tr>\n",
       "    <tr>\n",
       "      <th>1</th>\n",
       "      <td>precipitazioni</td>\n",
       "      <td>0.014018</td>\n",
       "    </tr>\n",
       "    <tr>\n",
       "      <th>2</th>\n",
       "      <td>direzione_vento</td>\n",
       "      <td>0.007840</td>\n",
       "    </tr>\n",
       "  </tbody>\n",
       "</table>\n",
       "</div>"
      ],
      "text/plain": [
       "              cols       imp\n",
       "5      day_of_year  0.341430\n",
       "0      temperatura  0.265294\n",
       "7            epoch  0.237087\n",
       "6      day_of_week  0.063919\n",
       "4          umidita  0.050034\n",
       "3   velocita_vento  0.020377\n",
       "1   precipitazioni  0.014018\n",
       "2  direzione_vento  0.007840"
      ]
     },
     "execution_count": 7,
     "metadata": {},
     "output_type": "execute_result"
    }
   ],
   "source": [
    "rf_feat_importance(model, x_train)"
   ]
  },
  {
   "cell_type": "markdown",
   "metadata": {},
   "source": [
    "Come si può vedere il giorno dell'anno risulta la variabile più influente, cosa che non risulta per niente sorprendente se consideriamo la stagionalità degli NOx. Le altre variabili importanti sono la temperatura e la data, a significare che il passare del tempo ha influito molto sui valori registrati. Anche questa osservazione non dovrebbe sorprenderci, visto che è noto come gli inquinanti abbiano tutti dei trend in calo nel corso degli ultimi anni.  \n",
    "Le restanti variabili sembrano avere un'importanza piuttosto limitata."
   ]
  },
  {
   "cell_type": "markdown",
   "metadata": {},
   "source": [
    "## Partial dependence plots ##\n",
    "Un'altra analisi che si può fare sul modello e sulle variabili usate per effettuare le previsioni è quella tramite l'uso dei partial dependence plots. Viene generato un grafico per ogni variabile predittrice usata nel nostro modello ed ognuno sarà la rappresentazione di come cambiano i valori di $X$ al cambiare di tale variabile predittrice se si lasciano le altre fissate al loro valore medio."
   ]
  },
  {
   "cell_type": "code",
   "execution_count": 33,
   "metadata": {},
   "outputs": [
    {
     "data": {
      "image/png": "[encoded data removed]",
      "text/plain": [
       "<Figure size 720x360 with 8 Axes>"
      ]
     },
     "metadata": {
      "needs_background": "light"
     },
     "output_type": "display_data"
    }
   ],
   "source": [
    "#partial dependence plots\n",
    "plt.rcParams['figure.figsize'] = [10, 5]\n",
    "\n",
    "plot_partial_dependence(model, x_train, x_train.columns.drop(\"epoch\"), )\n",
    "fig = plt.gcf()\n",
    "fig.subplots_adjust(wspace=0.4, hspace=0.8)"
   ]
  },
  {
   "cell_type": "markdown",
   "metadata": {},
   "source": [
    "Osservando i grafici è facile capire come cambi il valore della concentrazione di inquinante al variare delle diverse variabili. Per esempio è molto evidente come i valori più alti siano registrati nella stagione invernale o, comunque, quando si registrano temperature al di sotto dei 10 gradi."
   ]
  },
  {
   "cell_type": "markdown",
   "metadata": {},
   "source": [
    "## Normalizzazione dei dati ##\n",
    "Come avevo già descritto precedentemente il processo per ottenere il valore della concentrazione di un inquinante per una data consiste nel far fare al nostro modello 1000 previsioni per tale data, ma con tutte le altre variabili che cambiano casualmente di previsione in previsione, calcolandone infine la media.  \n",
    "La funzione normalize_timeseries() applica questo processo a tutte le date presenti nel dataset iniziale, in modo da poter ottenere la timeseries normalizzata per l'inquinante di interesse."
   ]
  },
  {
   "cell_type": "code",
   "execution_count": 9,
   "metadata": {},
   "outputs": [
    {
     "data": {
      "image/png": "[encoded data removed]",
      "text/plain": [
       "<Figure size 720x360 with 1 Axes>"
      ]
     },
     "metadata": {
      "needs_background": "light"
     },
     "output_type": "display_data"
    }
   ],
   "source": [
    "def normalize_timeseries():\n",
    "    #per 1000 volte...\n",
    "    # 1. shufflo tutte le righe di tot tranne per la data\n",
    "    # 2. faccio fare le prediction \n",
    "    # 3. appendo data e prediction a un altro df\n",
    "    #--\n",
    "    #groupby.mean per data\n",
    "    dfs = []\n",
    "    for i in range(1000):\n",
    "        #if i % 5 == 0:\n",
    "            #print(\"Making prediction number:\", i)\n",
    "        \n",
    "        scrambled_rows = data.sample(frac=1).reset_index(drop=True)\n",
    "        scrambled_rows.index = data.index\n",
    "        scrambled_rows.epoch = data.epoch #fisso la data e mischio le altre righe\n",
    "        preds = pd.DataFrame(model.predict(scrambled_rows.drop(\"inquinante\", 1)), columns=[\"inquinante\"])\n",
    "        preds.index = data.index\n",
    "        dfs.append(preds)\n",
    "    predictions = pd.concat(dfs)\n",
    "    return predictions.groupby(predictions.index).mean()\n",
    "\n",
    "normalized = normalize_timeseries()\n",
    "plt.plot(normalized.index, normalized.inquinante)\n",
    "plt.show()"
   ]
  },
  {
   "cell_type": "markdown",
   "metadata": {},
   "source": [
    "Quella ottenuta è quindi la timeseries normalizzata degli NOx per la stazione di Milano Via Zavattari; come si può vedere viene confermata la presenza di un trend negativo che in questa timeseries risulta però molto più evidente che dai dati \"grezzi\". \n",
    "Avendo a disposizione i dati normalizzati sarà poi possibile effettuare le analisi previste relative a blocchi del traffico ed epidemia COVID-19.\n",
    "\n",
    "Da questa prima prova risulta quindi possibile anche nel nostro caso applicare random forest per ottenere la normalizzazione dei dati di un inquinante, come già fatto da altri studi precedenti, ed infatti sia i risultati ottenuti che le performance del modello creato risultano similari e compatibili."
   ]
  },
  {
   "cell_type": "markdown",
   "metadata": {},
   "source": [
    "## Possibili miglioramenti ##\n",
    "Prima di procedere all'utilizzo di questo metodo per lo svolgimento delle analisi successive credo sia utile fare un po' di esperimenti per vedere se è possibile migliorare ulteriormente le performance del modello ottenuto.\n",
    "\n",
    "La prima attività che può risultare utile è fare un po' di testing sui valori degli iperparametri di random forest, per cercare di capire quale combinazione possa risultare più efficace.  \n",
    "Per primo andremo a testare il parametro n_estimators, che indica il numero di alberi creato nella foresta.  \n",
    "Definiamo quindi una funzione che se ne occupi."
   ]
  },
  {
   "cell_type": "code",
   "execution_count": 24,
   "metadata": {},
   "outputs": [
    {
     "name": "stdout",
     "output_type": "stream",
     "text": [
      "Testing with 100 estimators\n",
      "Testing with 200 estimators\n",
      "Testing with 300 estimators\n",
      "Testing with 400 estimators\n",
      "Testing with 500 estimators\n",
      "Testing with 600 estimators\n",
      "Testing with 700 estimators\n",
      "Testing with 800 estimators\n",
      "Testing with 900 estimators\n",
      "Testing with 1000 estimators\n"
     ]
    },
    {
     "data": {
      "image/png": "[encoded data removed]",
      "text/plain": [
       "<Figure size 720x360 with 1 Axes>"
      ]
     },
     "metadata": {
      "needs_background": "light"
     },
     "output_type": "display_data"
    }
   ],
   "source": [
    "def test_estimators():\n",
    "    n_est = np.arange(100, 1001, 100)\n",
    "    results = pd.DataFrame(columns=[\"n\", \"rmse\", \"r2\"])\n",
    "    for n in n_est:\n",
    "        #print(f\"Testing with {n} estimators\")\n",
    "        model = RandomForestRegressor(n_estimators=n, oob_score=True, random_state=123)\n",
    "        model.fit(x_train, y_train)\n",
    "        y_pred = model.predict(x_test)\n",
    "        mse = metrics.mean_squared_error(y_test, y_pred)\n",
    "        r2 = model.score(x_test, y_test)\n",
    "        results.loc[len(results)] = [n, np.sqrt(mse), r2]\n",
    "    return results\n",
    "        \n",
    "results = test_estimators()\n",
    "plt.plot(results.n, results.r2)\n",
    "plt.show()"
   ]
  },
  {
   "cell_type": "markdown",
   "metadata": {},
   "source": [
    "Sembra che il numero di alberi usati nella foresta sia poco influente sul valore di $R^2$, comunque 300 mi sembra la scelta migliore. \n",
    "Possiamo anche controllare come si comporta il RMSE al variare di questo parametro."
   ]
  },
  {
   "cell_type": "code",
   "execution_count": 25,
   "metadata": {},
   "outputs": [
    {
     "data": {
      "image/png": "[encoded data removed]",
      "text/plain": [
       "<Figure size 720x360 with 1 Axes>"
      ]
     },
     "metadata": {
      "needs_background": "light"
     },
     "output_type": "display_data"
    }
   ],
   "source": [
    "plt.plot(results.n, results.rmse)\n",
    "plt.show()"
   ]
  },
  {
   "cell_type": "markdown",
   "metadata": {},
   "source": [
    "Anche per quanto riguarda questo aspetto sembra che 300 sia la scelta migliore.\n",
    "\n",
    "Un altro iperparametro che può valer la pena testare è sicuramente max_depth, che stabilisce la profondità massima degli alberi che comporranno la foresta. Definiamo una soluzione analoga alla precedente che se ne occupi."
   ]
  },
  {
   "cell_type": "code",
   "execution_count": 30,
   "metadata": {},
   "outputs": [
    {
     "name": "stdout",
     "output_type": "stream",
     "text": [
      "Testing with max depth value set to 10\n",
      "Testing with max depth value set to 20\n",
      "Testing with max depth value set to 30\n",
      "Testing with max depth value set to 40\n",
      "Testing with max depth value set to 50\n"
     ]
    },
    {
     "data": {
      "image/png": "[encoded data removed]",
      "text/plain": [
       "<Figure size 720x360 with 1 Axes>"
      ]
     },
     "metadata": {
      "needs_background": "light"
     },
     "output_type": "display_data"
    }
   ],
   "source": [
    "def test_depth():\n",
    "    depths = np.arange(10, 51, 10)\n",
    "    results = pd.DataFrame(columns=[\"depth\", \"rmse\", \"r2\"])\n",
    "    for depth in depths:\n",
    "        #print(f\"Testing with max depth value set to {depth}\")\n",
    "        model = RandomForestRegressor(n_estimators=300, max_depth=depth, oob_score=True, random_state=123)\n",
    "        model.fit(x_train, y_train)\n",
    "        y_pred = model.predict(x_test)\n",
    "        mse = metrics.mean_squared_error(y_test, y_pred)\n",
    "        r2 = model.score(x_test, y_test)\n",
    "        results.loc[len(results)] = [depth, np.sqrt(mse), r2]\n",
    "    return results\n",
    "\n",
    "results = test_depth()\n",
    "plt.plot(results.depth, results.r2)\n",
    "plt.show()"
   ]
  },
  {
   "cell_type": "markdown",
   "metadata": {},
   "source": [
    "Sembra che anche questo parametro abbia relativamente poca influenza sulle prestazioni del modello, comunque 20 sembra essere la scelta migliore."
   ]
  },
  {
   "cell_type": "code",
   "execution_count": 31,
   "metadata": {},
   "outputs": [],
   "source": [
    "#TODO finire testing iperparametri/possibili miglioramenti\n",
    "#- aggregazione per ora anzichè per giorno\n",
    " #   - Test potential difference between 'h' and 'H' as grouping unit\n",
    "#- introduzione ulteriori variabili"
   ]
  },
  {
   "cell_type": "code",
   "execution_count": null,
   "metadata": {},
   "outputs": [],
   "source": []
  }
 ],
 "metadata": {
  "kernelspec": {
   "display_name": "Python 3",
   "language": "python",
   "name": "python3"
  },
  "language_info": {
   "codemirror_mode": {
    "name": "ipython",
    "version": 3
   },
   "file_extension": ".py",
   "mimetype": "text/x-python",
   "name": "python",
   "nbconvert_exporter": "python",
   "pygments_lexer": "ipython3",
   "version": "3.7.3"
  }
 },
 "nbformat": 4,
 "nbformat_minor": 4
}
